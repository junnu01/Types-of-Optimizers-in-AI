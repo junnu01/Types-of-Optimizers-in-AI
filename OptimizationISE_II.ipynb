{
  "nbformat": 4,
  "nbformat_minor": 0,
  "metadata": {
    "colab": {
      "provenance": [],
      "gpuType": "T4",
      "authorship_tag": "ABX9TyOT8ypP2XNkFp9Qh4E0ptvL",
      "include_colab_link": true
    },
    "kernelspec": {
      "name": "python3",
      "display_name": "Python 3"
    },
    "language_info": {
      "name": "python"
    },
    "accelerator": "GPU"
  },
  "cells": [
    {
      "cell_type": "markdown",
      "metadata": {
        "id": "view-in-github",
        "colab_type": "text"
      },
      "source": [
        "<a href=\"https://colab.research.google.com/github/junnu01/Types-of-Optimizers-in-AI/blob/main/OptimizationISE_II.ipynb\" target=\"_parent\"><img src=\"https://colab.research.google.com/assets/colab-badge.svg\" alt=\"Open In Colab\"/></a>"
      ]
    },
    {
      "cell_type": "code",
      "execution_count": 1,
      "metadata": {
        "colab": {
          "base_uri": "https://localhost:8080/"
        },
        "id": "K4wIcbTBlVuB",
        "outputId": "f4ef606b-ef5e-467a-f406-95d86ea6c89a"
      },
      "outputs": [
        {
          "output_type": "stream",
          "name": "stdout",
          "text": [
            "\n",
            "Snow Ablation Optimizer\n",
            "Average Accuracy: 0.9695906432748538\n",
            "Average Time (s): 37.31910285949707\n",
            "Standard Deviation: 0.010061199142739898\n",
            "\n",
            "Spider Wasp Optimizer\n",
            "Average Accuracy: 0.9660818713450293\n",
            "Average Time (s): 34.06024351119995\n",
            "Standard Deviation: 0.014514238182445453\n",
            "\n",
            "Energy Valley Optimizer\n",
            "Average Accuracy: 0.9649122807017545\n",
            "Average Time (s): 33.71044297218323\n",
            "Standard Deviation: 0.011095711088310103\n"
          ]
        }
      ],
      "source": [
        "import numpy as np\n",
        "import pandas as pd\n",
        "import time\n",
        "from sklearn.datasets import load_breast_cancer\n",
        "from sklearn.model_selection import train_test_split\n",
        "from sklearn.neighbors import KNeighborsClassifier\n",
        "from sklearn.metrics import accuracy_score\n",
        "\n",
        "# === Load Dataset ===\n",
        "data = load_breast_cancer()\n",
        "X = data.data\n",
        "y = data.target\n",
        "\n",
        "# Normalizing the dataset\n",
        "X = (X - X.min(0)) / (X.max(0) - X.min(0))\n",
        "\n",
        "# === Objective Function for Feature Selection ===\n",
        "def fitness_function(position, X_train, X_test, y_train, y_test):\n",
        "    selected_features = [i for i in range(len(position)) if position[i] > 0.5]\n",
        "    if len(selected_features) == 0:\n",
        "        return 1  # Penalize empty selection\n",
        "    clf = KNeighborsClassifier()\n",
        "    clf.fit(X_train[:, selected_features], y_train)\n",
        "    y_pred = clf.predict(X_test[:, selected_features])\n",
        "    accuracy = accuracy_score(y_test, y_pred)\n",
        "    return 1 - accuracy  # Since we minimize in optimizers\n",
        "\n",
        "# === Optimizer Template ===\n",
        "def run_optimizer(optimizer_func, X, y, name):\n",
        "    runs = 5\n",
        "    acc_list = []\n",
        "    times = []\n",
        "    for _ in range(runs):\n",
        "        X_train, X_test, y_train, y_test = train_test_split(X, y, test_size=0.3)\n",
        "        start_time = time.time()\n",
        "        best_position, best_score = optimizer_func(lambda pos: fitness_function(pos, X_train, X_test, y_train, y_test), X.shape[1])\n",
        "        duration = time.time() - start_time\n",
        "        acc = 1 - best_score\n",
        "        acc_list.append(acc)\n",
        "        times.append(duration)\n",
        "    print(f\"\\n{name} Optimizer\")\n",
        "    print(\"Average Accuracy:\", np.mean(acc_list))\n",
        "    print(\"Average Time (s):\", np.mean(times))\n",
        "    print(\"Standard Deviation:\", np.std(acc_list))\n",
        "\n",
        "# === Snow Ablation Optimizer ===\n",
        "def SAO(fitness, dim, n=30, max_iter=50):\n",
        "    lb, ub = 0, 1\n",
        "    X = np.random.rand(n, dim)\n",
        "    fit = np.array([fitness(x) for x in X])\n",
        "    best = X[np.argmin(fit)]\n",
        "    for t in range(max_iter):\n",
        "        for i in range(n):\n",
        "            alpha = np.random.rand()\n",
        "            beta = np.random.rand()\n",
        "            X[i] = X[i] + alpha * (best - abs(X[i])) + beta * (np.random.rand(dim) * (ub - lb) + lb)\n",
        "            X[i] = np.clip(X[i], lb, ub)\n",
        "            f = fitness(X[i])\n",
        "            if f < fitness(best):\n",
        "                best = X[i]\n",
        "    return best, fitness(best)\n",
        "\n",
        "# === Spider Wasp Optimizer ===\n",
        "def SWO(fitness, dim, n=30, max_iter=50):\n",
        "    lb, ub = 0, 1\n",
        "    X = np.random.rand(n, dim)\n",
        "    fit = np.array([fitness(x) for x in X])\n",
        "    best = X[np.argmin(fit)]\n",
        "    for t in range(max_iter):\n",
        "        for i in range(n):\n",
        "            rand1 = np.random.rand(dim)\n",
        "            rand2 = np.random.rand(dim)\n",
        "            X[i] = X[i] + rand1 * (best - X[i]) + rand2 * (np.random.rand(dim))\n",
        "            X[i] = np.clip(X[i], lb, ub)\n",
        "            f = fitness(X[i])\n",
        "            if f < fitness(best):\n",
        "                best = X[i]\n",
        "    return best, fitness(best)\n",
        "\n",
        "# === Energy Valley Optimizer ===\n",
        "def EVO(fitness, dim, n=30, max_iter=50):\n",
        "    lb, ub = 0, 1\n",
        "    X = np.random.rand(n, dim)\n",
        "    fit = np.array([fitness(x) for x in X])\n",
        "    best = X[np.argmin(fit)]\n",
        "    for t in range(max_iter):\n",
        "        for i in range(n):\n",
        "            r = np.random.rand()\n",
        "            valley = r * (best - X[i]) + (1 - r) * (np.random.rand(dim))\n",
        "            X[i] = X[i] + valley\n",
        "            X[i] = np.clip(X[i], lb, ub)\n",
        "            f = fitness(X[i])\n",
        "            if f < fitness(best):\n",
        "                best = X[i]\n",
        "    return best, fitness(best)\n",
        "\n",
        "# === Run All Optimizers ===\n",
        "run_optimizer(SAO, X, y, \"Snow Ablation\")\n",
        "run_optimizer(SWO, X, y, \"Spider Wasp\")\n",
        "run_optimizer(EVO, X, y, \"Energy Valley\")\n"
      ]
    }
  ]
}